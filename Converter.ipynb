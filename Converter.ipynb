{
 "cells": [
  {
   "cell_type": "code",
   "execution_count": 1,
   "id": "6b7c2f44",
   "metadata": {},
   "outputs": [
    {
     "name": "stdout",
     "output_type": "stream",
     "text": [
      "2.0.1\n"
     ]
    }
   ],
   "source": [
    "import xlrd\n",
    "print(xlrd.__version__)"
   ]
  },
  {
   "cell_type": "code",
   "execution_count": 4,
   "id": "6acdf7fa",
   "metadata": {},
   "outputs": [],
   "source": [
    "import pandas as pd\n",
    "import os\n",
    "\n",
    "path = r\"C:\\Users\\Eduardo339674\\Desktop\\Luiz\\Dados_Carros\\posicoes_completo_excel (19)\"\n",
    "arquivos_excel = [f for f in os.listdir(path) if f.endswith(('.xlsx', '.xls'))]\n",
    "\n",
    "dfs = []\n",
    "\n",
    "for arquivo in arquivos_excel:\n",
    "    file_path = os.path.join(path, arquivo)\n",
    "    \n",
    "    # Pula as 3 primeiras linhas e usa a 4ª como cabeçalho\n",
    "    df = pd.read_excel(file_path, header=3, engine=\"xlrd\")\n",
    "\n",
    "    # Remove a linha seguinte ao cabeçalho (linha 5 original, que vira a 1ª)\n",
    "    df = df.iloc[1:]  # Remove a primeira linha de dados\n",
    "\n",
    "    dfs.append(df)\n",
    "\n",
    "# Junta todos os DataFrames\n",
    "df = pd.concat(dfs, ignore_index=True)\n",
    "\n",
    "df.to_excel(r\"C:\\Users\\Eduardo339674\\Desktop\\Luiz\\DataFrame2.xlsx\", index=False)"
   ]
  }
 ],
 "metadata": {
  "kernelspec": {
   "display_name": "Python 3",
   "language": "python",
   "name": "python3"
  },
  "language_info": {
   "codemirror_mode": {
    "name": "ipython",
    "version": 3
   },
   "file_extension": ".py",
   "mimetype": "text/x-python",
   "name": "python",
   "nbconvert_exporter": "python",
   "pygments_lexer": "ipython3",
   "version": "3.13.1"
  }
 },
 "nbformat": 4,
 "nbformat_minor": 5
}
